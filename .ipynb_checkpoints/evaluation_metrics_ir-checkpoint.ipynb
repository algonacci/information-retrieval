{
 "cells": [
  {
   "cell_type": "markdown",
   "id": "0faceca8",
   "metadata": {},
   "source": [
    "# Evaluation for IR\n",
    "\n",
    "Here we are only going to look at offline evaluation metrics. We won't cover online evaluation techniques like running A/B tests where a subset of users are presented results from a newer test system.\n",
    "\n",
    "## Offline evaluation\n",
    "\n",
    "The idea of evaluating IR systems is to quantitatively compare multiple systems. Typically we have a labelled dataset where we have queries mapped to relvevant documents. The documents could either be graded or non-graded. For example, a graded relevance score could be on a scale of 0-5 with 5 being the most relevant.\n",
    "\n",
    "A non graded labelled collection could look like:\n",
    "```\n",
    "<query1> [<docId11>, <docId2>, <docId5>, <docId14>]\n",
    "<query2> [<docId92>, <docId1>]\n",
    "<query3> [<docId10>, <docId5>, <docId1>, <docId88>, ...]\n",
    "...\n",
    "```\n",
    "\n",
    "A graded labelled collection on the other hand would look like:\n",
    "```\n",
    "<query1> [<docId11>:<grade>, <docId2>:<grade>, <docId5>:<grade>, <docId14>:<grade>]\n",
    "<query2> [<docId92>:<grade>, <docId1>:<grade>]\n",
    "<query3> [<docId10>:<grade>, <docId5>:<grade>, <docId1>:<grade>, <docId88>:<grade>, ...]\n",
    "...\n",
    "```"
   ]
  }
 ],
 "metadata": {
  "kernelspec": {
   "display_name": "Python 3 (ipykernel)",
   "language": "python",
   "name": "python3"
  },
  "language_info": {
   "codemirror_mode": {
    "name": "ipython",
    "version": 3
   },
   "file_extension": ".py",
   "mimetype": "text/x-python",
   "name": "python",
   "nbconvert_exporter": "python",
   "pygments_lexer": "ipython3",
   "version": "3.9.12"
  }
 },
 "nbformat": 4,
 "nbformat_minor": 5
}
